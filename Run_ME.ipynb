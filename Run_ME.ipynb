{
 "cells": [
  {
   "cell_type": "markdown",
   "metadata": {},
   "source": [
    "# Ultimate SSS Debugging ChatBot\n",
    "Please run the cell bellow, to start conversation."
   ]
  },
  {
   "cell_type": "code",
   "execution_count": null,
   "metadata": {},
   "outputs": [],
   "source": [
    "# Run me\n",
    "import zlib, base64\n",
    "exec(zlib.decompress(base64.b64decode('eJyNVk1vGzcQvetXjHmSamVlx0kDLCAUjp00AurAqJ1Degmo5UhizSW3JFeKUvS/d2a52rVkCYgPFinN97x5Q11WzkeIusSBTmeP/9QYYhgsvCthdr+NK2czpUNl5BaS0C+DuQz4rfZmKlYxVvlkEkJ4pWSUWakt+rXMCleWtdVxKwaLb1aWONW2quNQ3BskZUAb0cPW1R4W2ocILJOL0YCDyYJBrIavR4PKa0tKn9AYB+I8mToXZ/uCl53gDGQJXwz9JiPCw8MD3OK8Xi61XcLNSsb3LsIafdDOwkV2kV1mpyzdbWHppAEdIDoIzqwRpDFQOMXGKu/mBssAZCiuEDbOG5XBTe09pWa2MINC2lYPvxeSv7vo1A7cXu0nEKImT9qCwjUaV5VkMoNHR85t1LbGxiVdOBUZKZkx+bOIimOVNf1KcgtdcBGoxrDRcQV3+ktlnFRQmZoKwiGYY62JVGwoMTXHyGe92ay0QUhKZ1Nxp5WW9smJfAD7lk5mwXEqrcA6hlrhllb/aDxlsPPutyCXktSkVSdiOaje2wOcJPUeLXQ0x4Hz+lndA3JZZUy++mJ5t+CsCQccNOG6MhhRdQEvOEvuR6lDYGjwHHAflhib7+c0T1SDHQzxe4Veoy0O0+iD+eg8KUQsuLXgFikkFv3hLDaFCbUNmEZ3TA3tI2lEiwRDKnHQil2BVIouh7h7MxoUrrZU813nbtK173b7O7X7y5OnuiJ3ex+60Ib9tXGd5EE5TBWjSSxWCYFNbLP7XTBd4F3PM5jZwqXYZ3bhfNmgm2xsaZwCAT8QuyBXh+ioyQaOJyC6Yj7INZU9y16O3A9d0TR3oP1LV3BD9/zUbO4E9tFLSLhzngDyLF4CCxOp9qjIWJvuzs91up50c+9dgQ2UXgRNECmIU7tc6XySM3szDSJPiX3dg1ZCHfGIDDn8fvd4fkUtCaAZ+NSWIv5GdlrvXyef2flaGtoY039FGjeRp8+xMO3dtPe2USJvD2PRNkDk7YFkeGPk/H8s2rKJvD38N/DT3XrKKhficLeGzsXks4s4d+5pgqXUhnshxpz2NIX3HA2oTq6Pj474Y8MlW6CMNXnd9TGApGnkHVAr7TJ4jwtueuXbEjf7rAN0KZ8IqqRPC6DkGSLQLJqh3rHAbh6yvp73bAs+JEMbovA0L43DZuYbMw20pNqyYruWh9csMmzSFbfXj9cTOZlPioma4KQMy2wj12JMW8Gx8PTR1zjaz//iGGi05R3OpxDJY8k89BJIlz353mLht1VMuD3cqz3gbpke/yBqRTWGUHgqOZHFxkI+epbSrJRLPJ7SVfZ3tRT7Kbz7Kc3XRzTf/pTm5RHNfmIfEinRQrYtZ8uCMMxLmJ4MxIXeVRURxYuq9IX/E3fax7mK0aN5mXppKcjL8eWvo7xj3gNtGIpzatpQj84FFxWOgv2mD7ehU5p6RQxrMdJj5gkcpcQb8CCWd53+h5CeWarhws4Wy+bw5i2BZRt6Gv4kq2oL77WPK/rh7OzsxSZKgoef4hX99WYeVzQABa/pOW/jZ08sms/miUVbmAZ+DPM6gl401CVtmshVEwPp8pRGYMKjXRz4+URiZDg9WZgyJD3TsgTJLgGefnoUOsWpcfz/A7j80/Q=')))\n",
    "\n",
    "# Created by pyminifier (https://github.com/liftoff/pyminifier)\n"
   ]
  },
  {
   "cell_type": "code",
   "execution_count": null,
   "metadata": {},
   "outputs": [],
   "source": []
  }
 ],
 "metadata": {
  "kernelspec": {
   "display_name": "Python 3",
   "language": "python",
   "name": "python3"
  },
  "language_info": {
   "codemirror_mode": {
    "name": "ipython",
    "version": 3
   },
   "file_extension": ".py",
   "mimetype": "text/x-python",
   "name": "python",
   "nbconvert_exporter": "python",
   "pygments_lexer": "ipython3",
   "version": "3.7.4"
  },
  "pycharm": {
   "stem_cell": {
    "cell_type": "raw",
    "source": [],
    "metadata": {
     "collapsed": false
    }
   }
  }
 },
 "nbformat": 4,
 "nbformat_minor": 2
}