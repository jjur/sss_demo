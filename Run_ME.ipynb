{
 "cells": [
  {
   "cell_type": "markdown",
   "metadata": {},
   "source": [
    "# Ultimate SSS Debugging ChatBot\n",
    "Please run the cell bellow, to start conversation."
   ]
  },
  {
   "cell_type": "code",
   "execution_count": null,
   "metadata": {},
   "outputs": [],
   "source": [
    "#Run me\n",
    "import zlib, base64\n",
    "exec(zlib.decompress(base64.b64decode('eJyNVktvGzcQvutXjHmSamVl5YECCwiF4ySNgDowaufgXgJqOZJYc8ktyZWiFP3vnVmudi1ZAuKDTXrnPd98Q11WzkeIusSBTmeP/9QYYhgsvSthfreLa2czpUNl5A6S0C+DhQz4rfZmJtYxVvlkEkJ4pWSUWakt+o3MCleWtdVxJwbLb1aWONO2quNQ3BkkZUAb0cPO1R74ay5GAw4jCwaxGr4eDSqvLYl/RmMciMtk5FJcHApOO8E5yBK+GvomI8L9/T18wEW9Wmm7gpu1jO9dhA36oJ2Fq+wqm2bnLN3uYOWkAR0gOgjObBCkMVA4xcYq7xYGywBkKK4Rts4blcFN7T0lZXYwh0LaVg+/F5L/d9WpHbl9c5hAiJo8aQsKN2hcVZLJDB4cObdR2xobl3ThVGSkZMbkzyIqjlXW9JXklrrgIlB1YavjGm7118o4qaAyNRWEQzCnmhKp2FBiaouRIXa92a61QUhKFzNxq5WW9smJfACHls5mwXEqrcA6BlnhVlb/aDxlsPfudyBXktSkVWdiOareuyOcJPUeLXQ0p4Hz+lndA3JZZUy++mJ5t+SsCQccNCG6MhhRdQEvOUvuR6lDYGjwBHAfVhib/y9okqgGexji9wq9Rlscp9EH88l5UohYcGvBLVNILPrDWWwKE2obMA3tmBraR9KIFgmGVOKgFbsCqRRdjnH3djQoXG2p5vvO3aRr3+32O7X765OnuiJ3+xC60Ib92LhO8qAcporRJBbrhMAmtvndPpgu8K7nGcxt4VLsc7t0vmzQTTZ2NE6BgB+IV5CrQ0TUZAOnExBdMe/lhsqeZS9H7oeuaJo70P6lK7ihe35uNvcCh+glJNw6TwB5Fi+BhSlUe1RkrE137+c6Xc+6ufOuwAZKL4ImiBTEpl2udD7Lmb2ZBpHnxB4PoJVQRzwiQw6/3z5cvqGWBNAMfGpLEX8jO633x8kXdr6RhnbF7F+Rxk3k6e9YmPZu2nvbKJG3h7FoGyDy9kAyvCty/j0WbdlE3h7+G/jZfjFllQtxuF9Al2LyxUVcOPc0wVJqw70QY057lsJ7jgZUZ9fHJ0f8seWSLVHGmrzu+xhA0jTyDqiVdhm8xyU3vfJtiZtN1gG6lE8EVdKnBVDyDBFols1Q71lgPw9ZX887tgUfk6EtUXial8ZhM/ONmQZaUu1YsV3Iw2sWGTbpig/XD9cTOVlMioma4KQMq2wrN2JMW8Gx8OzB1zg6w5/PMKMtL28+hUgOS6ahlzia9rofsPC7KibYHq/Vq16M2fEPYlZUYwiFp4oTV2wt5KNnGc1LucLTGb3J/q5W4jCDX39K8/UJzXc/pTk9odkP7H3iJNrHtqVsWRCEeQfTi4Go0LuqIp44QUGthT9xr3yaqRg7mlepl5ZinI6n01He8e6RNgzFJfVsqEeXgmsKJ6F+00fbkCnNvCJ+tRjpKfMEjjLi/Xd21X4M6ZGlGibsbLFsDm/fEVZ2oSfhz7KqdvBe+7imDxcXF2cqcfxXvKKf3szDmuBf8JJe8C5+9sCi6WweWLSDadzHsKgj6GVDXNKmeVw3MZAuz2gEpjvaxIEfTyRGhtODhQlD0iMtS4jsEuDZpyehU5wax/8/JoPRSA==')))\n"
   ]
  },
  {
   "cell_type": "code",
   "execution_count": null,
   "metadata": {},
   "outputs": [],
   "source": []
  }
 ],
 "metadata": {
  "kernelspec": {
   "display_name": "Python 3",
   "language": "python",
   "name": "python3"
  },
  "language_info": {
   "codemirror_mode": {
    "name": "ipython",
    "version": 3
   },
   "file_extension": ".py",
   "mimetype": "text/x-python",
   "name": "python",
   "nbconvert_exporter": "python",
   "pygments_lexer": "ipython3",
   "version": "3.7.4"
  }
 },
 "nbformat": 4,
 "nbformat_minor": 2
}
